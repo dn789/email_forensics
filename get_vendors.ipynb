{
   "cells": [
      {
         "cell_type": "markdown",
         "metadata": {},
         "source": [
            "### Find vendor names in emails\n",
            "\n",
            "This script finds vendor names in a set of emails by:\n",
            "1. Finding emails relevant to payment, invoices, etc. \n",
            "2. Extracting named organization entities from them.\n",
            "3. Filtering out the most frequent entities in the whole set of emails. "
         ]
      },
      {
         "cell_type": "markdown",
         "metadata": {},
         "source": [
            "#### Setup"
         ]
      },
      {
         "cell_type": "markdown",
         "metadata": {},
         "source": [
            "JS setup\n",
            "- `npm install pst-extractor` in process_pst folder.\n",
            "\n",
            "- Comment out lines 162-165 in *process_pst/node_modules/pst-extractor/dist/PSTFolder.class.js*: \n",
            "\n",
            "  ```\n",
            "  if ((emailRow && emailRow.itemIndex == -1) || !emailRow) {\n",
            "    // no more!\n",
            "    return null;\n",
            "  }\n",
            "  ```\n",
            "\n",
            "Process PST files\n",
            "- `node process_pst.js <input folder or file> <output folder>`\n",
            "\n",
            "Python dependencies\n",
            "\n",
            "- `pip install beautifulsoup4 bertopic flair keybert keyphrase_vectorizers scikit-learn`"
         ]
      },
      {
         "cell_type": "markdown",
         "metadata": {},
         "source": [
            "#### Imports"
         ]
      },
      {
         "cell_type": "code",
         "execution_count": 1,
         "metadata": {},
         "outputs": [],
         "source": [
            "from sentence_transformers import util\n",
            "from get_entities import main, semantic_search_kw, similarity_wordnet, semantic_search_doc"
         ]
      },
      {
         "cell_type": "markdown",
         "metadata": {},
         "source": [
            "#### Specify input and output, optional args, and run\n",
            "\n",
            "**TL;DR:** \n",
            "- Best parameters to play around with are:\n",
            "\n",
            "    - **filter_terms**: Used to find relevant emails to get named organization entities from, eg. ['invoice', 'payment', 'vendor'] to find emails containing vendor names.\n",
            "\n",
            "    - **filter_func_args['threshold']**: threshold for relevancy.\n",
            "- The default *semantic_search_doc* models save doc embeddings after first run, so re-runs with different configs (but the same model) will be faster. \n",
            "\n",
            "\n",
            "**Args for get_entities.main**\n",
            "\n",
            "- **input** : str\n",
            "\n",
            "    - Path to folder containing extracted PST file contents.\n",
            "    \n",
            "- **output** : str\n",
            "\n",
            "    - Path.\n",
            "- **filter_terms** : list, optional\n",
            "\n",
            "    - Terms used to find relevant emails, \n",
            "        default ['invoice', 'payment', 'vendor']\n",
            "        \n",
            "- **filter_func** : func, optional\n",
            "\n",
            "    - Function used to compare filter_terms and email text/keywords:\n",
            "        - *semantic_search_doc* (default) : Asymmetric semantic search comparing filter_terms with email text.\n",
            "\n",
            "        - *semantic_search_kw* : Symmetric semantic search comparing filter_terms with email keywords.\n",
            "\n",
            "        - *similarity_wordnet* : Compares filter_terms with WordNet synsets of email keywords. filter_terms must be a list of [WordNet synsets](https://www.nltk.org/howto/wordnet.html)\n",
            "\n",
            "- **filter_func_args** : dict, optional\n",
            "\n",
            "    - Each filter_func has its own default args (see beginning of function). Only use this when overriding those :\n",
            "\n",
            "        - *model_name* (semantic_search_*) : Use asymmetric semantic search models for semantic_search_doc and symmetric ones for semantic_search_kw. Make sure to use the appropriate metric for the specified model. See [sentence_transformer documentation](https://www.sbert.net/docs/pretrained_models.html#semantic-search) for more info.\n",
            "\n",
            "        - *metric* : Similarity metric.\n",
            "\n",
            "            - wn.wup_similarity (similarity_wordnet) : 0 to 1\n",
            "\n",
            "            - util.cos_sim (semantic_search_*) : -1 to 1\n",
            "\n",
            "            - util.dot_score (semantic_search_*) : Test model on huggingface to determine a reasonable threshold.\n",
            "\n",
            "        - *threshold* : Threshold to determine relevance.\n",
            "\n",
            "- **kw_kwargs** : dict, optional\n",
            "\n",
            "    - Args for keywords extraction, default {'top_n': 10}\n",
            "\n",
            "- **kw_batch_size** : int, optional\n",
            "\n",
            "    - Batch size for keyword extraction, default None"
         ]
      },
      {
         "cell_type": "code",
         "execution_count": 2,
         "metadata": {},
         "outputs": [
            {
               "name": "stdout",
               "output_type": "stream",
               "text": [
                  "2024-02-08 17:12:21,706 SequenceTagger predicts: Dictionary with 20 tags: <unk>, O, S-ORG, S-MISC, B-PER, E-PER, S-LOC, B-ORG, E-ORG, I-PER, S-PER, B-MISC, I-MISC, E-MISC, I-ORG, B-LOC, E-LOC, I-LOC, <START>, <STOP>\n"
               ]
            },
            {
               "name": "stderr",
               "output_type": "stream",
               "text": [
                  "Getting entities...: 100%|██████████| 37758/37758 [00:00<00:00, 1739376.93it/s]\n"
               ]
            },
            {
               "name": "stdout",
               "output_type": "stream",
               "text": [
                  "\n",
                  "Finished.\n"
               ]
            }
         ],
         "source": [
            "input_folder = 'data/extracted emails/process_pst_js/priorityservices/'\n",
            "output_folder = 'data/results/priorityservices/'\n",
            "\n",
            "use_custom = False # Set to True to use custom_kwargs\n",
            "\n",
            "custom_kwargs = {\n",
            "    'filter_terms': ['lunch.n.01'],\n",
            "    'filter_func': similarity_wordnet,\n",
            "    'filter_func_args': {'threshold': .90}\n",
            "}\n",
            "\n",
            "##########################################\n",
            "\n",
            "kwargs = custom_kwargs if use_custom else {}\n",
            "\n",
            "main(input_folder, output_folder, **kwargs)"
         ]
      }
   ],
   "metadata": {
      "kernelspec": {
         "display_name": "env",
         "language": "python",
         "name": "python3"
      },
      "language_info": {
         "codemirror_mode": {
            "name": "ipython",
            "version": 3
         },
         "file_extension": ".py",
         "mimetype": "text/x-python",
         "name": "python",
         "nbconvert_exporter": "python",
         "pygments_lexer": "ipython3",
         "version": "3.9.18"
      },
      "orig_nbformat": 4
   },
   "nbformat": 4,
   "nbformat_minor": 2
}
