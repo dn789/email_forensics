{
 "cells": [
  {
   "cell_type": "markdown",
   "metadata": {},
   "source": [
    "`pip install flair ipywidgets nbformat nltk pandas plotly tqdm`"
   ]
  },
  {
   "cell_type": "code",
   "execution_count": null,
   "metadata": {},
   "outputs": [],
   "source": [
    "from collections import Counter\n",
    "import json\n",
    "import os\n",
    "\n",
    "import pandas as pd\n",
    "import plotly.express as px\n",
    "from tqdm .notebook import tqdm"
   ]
  },
  {
   "cell_type": "markdown",
   "metadata": {},
   "source": [
    "#### Get entities\n",
    "Only need to run once to get entities from emails and save to output. Can add emails to email_dir or increase n_emails and run again."
   ]
  },
  {
   "cell_type": "code",
   "execution_count": null,
   "metadata": {},
   "outputs": [],
   "source": [
    "# Entities to find (should only be ORG for vendors).\n",
    "entities = ('ORG')\n",
    "email_dir = 'email_text'\n",
    "# Find entities in first N emails in email_dir.\n",
    "n_emails = None\n",
    "# Path to JSON file\n",
    "output = 'entity_results.json'\n",
    "\n",
    "from flair.data import Sentence\n",
    "from flair.models import SequenceTagger\n",
    "from nltk import sent_tokenize\n",
    "\n",
    "def get_entities(tags, folder, output):\n",
    "    tagger = SequenceTagger.load(\"flair/ner-english-fast\")\n",
    "    results_dict = {'processed': [], 'entities': {}}\n",
    "    entity_dict = results_dict['entities']\n",
    "    for i, filename in tqdm(list(enumerate(os.listdir(folder)[:n_emails]))):\n",
    "        if filename in results_dict['processed']:\n",
    "            continue\n",
    "        results_dict['processed'].append(filename)\n",
    "        if i and not i % 100:\n",
    "            json.dump(results_dict, open(\n",
    "                output, 'w', encoding='utf-8'), default=list)\n",
    "        email = open(os.path.join(folder, filename), encoding='utf-8').read()\n",
    "        sents = sent_tokenize(email)\n",
    "        for sent in sents:\n",
    "            sent = Sentence(sent)\n",
    "            tagger.predict(sent)\n",
    "            for entity in sent.get_spans('ner'):\n",
    "                if entity.tag in tags:\n",
    "                    entity_dict.setdefault(\n",
    "                        name := entity.text, {'tags': set(), 'files': set(), 'count': 0})\n",
    "                    entity_dict[name]['tags'].add(entity.tag)\n",
    "                    entity_dict[name]['files'].add(filename)\n",
    "                    entity_dict[name]['count'] += 1\n",
    "    json.dump(results_dict, open(output, 'w', encoding='utf-8'),\n",
    "              default=list)\n",
    "\n",
    "get_entities(entities, email_dir, output)"
   ]
  },
  {
   "cell_type": "markdown",
   "metadata": {},
   "source": [
    "### Graph entities "
   ]
  },
  {
   "cell_type": "code",
   "execution_count": null,
   "metadata": {},
   "outputs": [],
   "source": [
    "# Path to entity JSON file\n",
    "entity_file = 'entity_results.json'\n",
    "# Only include entities that occur at least this frequntly in emails\n",
    "min_count = 5\n",
    "# Top n entities to graph (there will be way too many to graph all of them)\n",
    "top_n_entities = 20\n",
    "\n",
    "def graph_entities(data, min_count=0, top_n_entities=None):\n",
    "    data = json.load(open(data, encoding='utf-8'))\n",
    "    counts = {word: v['count']\n",
    "              for word, v in data['entities'].items() if v['count'] >= min_count}\n",
    "    counts = Counter(counts)\n",
    "    counts = counts.most_common(top_n_entities)\n",
    "    df = pd.DataFrame(list(counts))\n",
    "    df = df.rename(columns={0: 'word', 1: 'count'})\n",
    "    fig = px.bar(df, x='word', y='count')\n",
    "    fig.show()\n",
    "\n",
    "graph_entities(entity_file, min_count=min_count,top_n_entities=top_n_entities)"
   ]
  }
 ],
 "metadata": {
  "kernelspec": {
   "display_name": "env",
   "language": "python",
   "name": "python3"
  },
  "language_info": {
   "codemirror_mode": {
    "name": "ipython",
    "version": 3
   },
   "file_extension": ".py",
   "mimetype": "text/x-python",
   "name": "python",
   "nbconvert_exporter": "python",
   "pygments_lexer": "ipython3",
   "version": "3.9.17"
  },
  "orig_nbformat": 4
 },
 "nbformat": 4,
 "nbformat_minor": 2
}
