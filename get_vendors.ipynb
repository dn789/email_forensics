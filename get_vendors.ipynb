{
   "cells": [
      {
         "cell_type": "markdown",
         "metadata": {},
         "source": [
            "### Find vendor names in emails"
         ]
      },
      {
         "cell_type": "markdown",
         "metadata": {},
         "source": [
            "#### Setup"
         ]
      },
      {
         "cell_type": "markdown",
         "metadata": {},
         "source": [
            "JS setup\n",
            "- `npm install pst-extractor` in process_pst folder.\n",
            "\n",
            "- Comment out lines 162-165 in *process_pst/node_modules/pst-extractor/dist/PSTFolder.class.js*: \n",
            "\n",
            "  ```\n",
            "  if ((emailRow && emailRow.itemIndex == -1) || !emailRow) {\n",
            "    // no more!\n",
            "    return null;\n",
            "  }\n",
            "  ```\n",
            "\n",
            "Process PST files\n",
            "- `node process_pst.js <input folder or file> <output folder>`\n",
            "\n",
            "Python dependencies\n",
            "\n",
            "- `pip install beautifulsoup4 bertopic flair keybert keyphrase_vectorizers scikit-learn`"
         ]
      },
      {
         "cell_type": "markdown",
         "metadata": {},
         "source": [
            "#### Imports"
         ]
      },
      {
         "cell_type": "code",
         "execution_count": 3,
         "metadata": {},
         "outputs": [],
         "source": [
            "from collections import Counter\n",
            "from get_entities import main, similarity_sbert_kw, similarity_wordnet"
         ]
      },
      {
         "cell_type": "markdown",
         "metadata": {},
         "source": [
            "#### Specify input and output, optional args, and run\n",
            "- Only need to specify *input_folder* (should contain emails extracted from *process_pst.js*) and *output_folder* for a default run\n",
            "\n",
            "- Set *use_custom* to True to use *custom_kwargs*\n",
            "\n",
            "- Gets vendors by :occuring\n",
            "    1. Getting keywords for every email\n",
            "\n",
            "    2. Using *filter_func* with  *filter_func_args* to find emails with keywords related to *filter_terms*. (When looking for vendors *filter_terms*  should be related to payment, invoices, etc.)\n",
            "    \n",
            "    3. Using a named entity recognition tagger to get organization names from those emails, which are more likely to be vendors (Filters out most frequent organizations in overall emails because those might be false positives.)\n",
            "\n",
            "- Two possible values for *filter_func*: similarity_wordnet_kw and similarity_sbert_kw. When using Wordnet, *filter_terms* must be a list of [Wordnet synsets](https://www.nltk.org/howto/wordnet.html). With S-BERT it should just be a list of words or phrases. \n",
            "\n",
            "- Use a different *filter_label* every time you change *filter_func*, *filter_terms*, or *filter_func_args* so that it output to a different file.\n"
         ]
      },
      {
         "cell_type": "markdown",
         "metadata": {},
         "source": []
      },
      {
         "cell_type": "code",
         "execution_count": 4,
         "metadata": {},
         "outputs": [
            {
               "name": "stderr",
               "output_type": "stream",
               "text": [
                  "Getting keywords...: 100%|██████████| 37758/37758 [23:52<00:00, 26.36it/s]  \n"
               ]
            },
            {
               "name": "stdout",
               "output_type": "stream",
               "text": [
                  "2024-01-26 13:44:43,955 SequenceTagger predicts: Dictionary with 20 tags: <unk>, O, S-ORG, S-MISC, B-PER, E-PER, S-LOC, B-ORG, E-ORG, I-PER, S-PER, B-MISC, I-MISC, E-MISC, I-ORG, B-LOC, E-LOC, I-LOC, <START>, <STOP>\n"
               ]
            },
            {
               "name": "stderr",
               "output_type": "stream",
               "text": [
                  "Getting entities...: 100%|██████████| 37758/37758 [36:20<00:00, 17.32it/s]  \n"
               ]
            },
            {
               "name": "stdout",
               "output_type": "stream",
               "text": [
                  "2024-01-26 14:21:06,862 SequenceTagger predicts: Dictionary with 20 tags: <unk>, O, S-ORG, S-MISC, B-PER, E-PER, S-LOC, B-ORG, E-ORG, I-PER, S-PER, B-MISC, I-MISC, E-MISC, I-ORG, B-LOC, E-LOC, I-LOC, <START>, <STOP>\n"
               ]
            },
            {
               "name": "stderr",
               "output_type": "stream",
               "text": [
                  "Getting entities from 1000 random docs...: 100%|██████████| 1000/1000 [06:03<00:00,  2.75it/s]\n"
               ]
            },
            {
               "name": "stdout",
               "output_type": "stream",
               "text": [
                  "\n",
                  "Finished.\n"
               ]
            }
         ],
         "source": [
            "input_folder = 'data/extracted emails/process_pst_js/priorityservices/'\n",
            "output_folder = 'data/vendor results/priorityservices/'\n",
            "\n",
            "use_custom = False # Set to True to use custom_kwargs\n",
            "\n",
            "kwargs = {\n",
            "    'filter_label':'str', # Change every time you change the other kwargs.\n",
            "    'filter_terms':[], # List of WordNet synsets for similarity_wordnet OR regular words/phrase for similarity_sbert_kw\n",
            "    'filter_func_args': {}, # See get_entities.py for other args.\n",
            "    'filter_threshold': float, # Similarity threshold for getting  emails relevant to filter_terms.\n",
            "    'filter_func': similarity_wordnet or similarity_sbert_kw # wordnet uses synsets and sbert uses word embeddings.\n",
            "     }\n",
            "\n",
            "custom_kwargs = {\n",
            "}\n",
            "\n",
            "default_kwargs = {\n",
            "    'filter_label':'sbert invoice related',\n",
            "    'filter_terms': ['invoice'],\n",
            "    'filter_func_args': {},\n",
            "    'filter_threshold': .85,\n",
            "    'filter_func': similarity_sbert_kw,\n",
            "}\n",
            "\n",
            "##########################################\n",
            "\n",
            "kwargs = custom_kwargs if use_custom else default_kwargs\n",
            "\n",
            "main(input_folder, output_folder, **kwargs)"
         ]
      }
   ],
   "metadata": {
      "kernelspec": {
         "display_name": "env",
         "language": "python",
         "name": "python3"
      },
      "language_info": {
         "codemirror_mode": {
            "name": "ipython",
            "version": 3
         },
         "file_extension": ".py",
         "mimetype": "text/x-python",
         "name": "python",
         "nbconvert_exporter": "python",
         "pygments_lexer": "ipython3",
         "version": "3.9.18"
      },
      "orig_nbformat": 4
   },
   "nbformat": 4,
   "nbformat_minor": 2
}
