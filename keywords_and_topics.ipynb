{
 "cells": [
  {
   "cell_type": "markdown",
   "metadata": {},
   "source": [
    "## Setup (must run cells marked *)\n"
   ]
  },
  {
   "cell_type": "markdown",
   "metadata": {},
   "source": [
    "`pip install beautifulsoup4 bertopic keybert keyphrase_vectorizers libpff-python scikit-learn`"
   ]
  },
  {
   "cell_type": "markdown",
   "metadata": {},
   "source": [
    "#### Imports*\n"
   ]
  },
  {
   "cell_type": "code",
   "execution_count": null,
   "metadata": {},
   "outputs": [],
   "source": [
    "import os\n",
    "import random\n",
    "import textwrap\n",
    "\n",
    "import pandas as pd"
   ]
  },
  {
   "cell_type": "markdown",
   "metadata": {},
   "source": [
    "#### Get emails from PST file(s)"
   ]
  },
  {
   "cell_type": "code",
   "execution_count": null,
   "metadata": {},
   "outputs": [],
   "source": [
    "import pypff\n",
    "\n",
    "def get_messages_from_pst(pst_path, output_folder):\n",
    "    if not os.path.isdir(output_folder):\n",
    "        os.makedirs(output_folder, exist_ok=True)\n",
    "    file_ = pypff.open(pst_path)\n",
    "    root = file_.get_root_folder()\n",
    "    for x in root.sub_items:\n",
    "        walk_folder_for_messages(x, output_folder=output_folder)\n",
    "\n",
    "\n",
    "def walk_folder_for_messages(folder, output_folder):\n",
    "    for i in folder.sub_items:\n",
    "        if type(i) == pypff.message:\n",
    "            subject = i.subject\n",
    "            text = i.plain_text_body.decode()\n",
    "            message = f'{subject}\\n{text}'\n",
    "            with open(os.path.join(output_folder, str(i.identifier)), 'w', encoding='utf-8') as f:\n",
    "                f.write(message)\n",
    "        elif type(i) == pypff.folder:\n",
    "            walk_folder_for_messages(i, output_folder=output_folder)\n",
    "\n",
    "pst_path_list = ['sample.pst', 'test.pst'] # Specify paths\n",
    "output_folder = 'email_text'\n",
    "for email_path in pst_path_list:\n",
    "    get_messages_from_pst(email_path, output_folder)"
   ]
  },
  {
   "cell_type": "markdown",
   "metadata": {},
   "source": [
    "#### ... Or from files with full headers, etc.\n"
   ]
  },
  {
   "cell_type": "code",
   "execution_count": null,
   "metadata": {},
   "outputs": [],
   "source": [
    "from bs4 import BeautifulSoup\n",
    "\n",
    "def get_email_text_and_subject(path, combine=True, stripHTML=True):\n",
    "    lines = open(path, encoding='utf-8').read().split('\\n')\n",
    "    start_index, end_index = None, None\n",
    "    subject = None\n",
    "    for index, line in enumerate(lines):\n",
    "        if line.startswith('Subject:') and subject is None:\n",
    "            subject = line.split(':', 1)[1].strip()\n",
    "        if not line and start_index is None:\n",
    "            start_index = index\n",
    "        elif '-----Original Message-----' in line:\n",
    "            end_index = index\n",
    "            break\n",
    "\n",
    "    text = '\\n'.join(lines[start_index:end_index]).strip()\n",
    "    if stripHTML:\n",
    "        text = BeautifulSoup(text, 'html.parser').text\n",
    "    if combine:\n",
    "        return f'{subject}\\n{text}'\n",
    "    return {'main_text': text, 'subject': subject}\n",
    "\n",
    "source_folder = None # Specify source folder\n",
    "output_folder = 'email_text'\n",
    "for root, dirs, filenames in os.walk(source_folder):\n",
    "    for filename in filenames:\n",
    "        email = get_email_text_and_subject(open(os.path.join(root, filename), encoding='utf-8'))\n",
    "        with open(os.path.join(output_folder, filename), 'w', encoding='utf-8') as f:\n",
    "            f.write(email)"
   ]
  },
  {
   "cell_type": "markdown",
   "metadata": {},
   "source": [
    "#### Specify folder contaning outputted email text, one email per file*"
   ]
  },
  {
   "cell_type": "code",
   "execution_count": null,
   "metadata": {},
   "outputs": [],
   "source": [
    "email_folder = 'email_text'"
   ]
  },
  {
   "cell_type": "markdown",
   "metadata": {},
   "source": [
    "## Keyword Extraction"
   ]
  },
  {
   "cell_type": "markdown",
   "metadata": {},
   "source": [
    "#### Setup\n"
   ]
  },
  {
   "cell_type": "code",
   "execution_count": null,
   "metadata": {},
   "outputs": [],
   "source": [
    "from keybert import KeyBERT\n",
    "from keyphrase_vectorizers import KeyphraseCountVectorizer\n",
    "from sklearn.feature_extraction.text import CountVectorizer\n",
    "\n",
    "kw_model = KeyBERT()\n",
    "\n",
    "def get_keywords(text, kwargs):\n",
    "    if kwargs.get('vectorizer'):\n",
    "        if kwargs['vectorizer'] == 'keyphrase':\n",
    "            kwargs['vectorizer'] = KeyphraseCountVectorizer()\n",
    "        else:\n",
    "            kwargs['vectorizer'] = CountVectorizer(\n",
    "                ngram_range=kwargs.get('keyphrase_ngram_range', (1, 1)),\n",
    "                stop_words=kwargs['stop_words']\n",
    "            )\n",
    "    keywords = kw_model.extract_keywords(text, **kwargs)\n",
    "    keywords = [x[0] for x in keywords]\n",
    "    print('KEYWORDS:\\n')\n",
    "    print('\\n'.join(keywords))"
   ]
  },
  {
   "cell_type": "markdown",
   "metadata": {},
   "source": [
    "#### Extract keywords from a random or specified email (see KWARGS)"
   ]
  },
  {
   "cell_type": "code",
   "execution_count": null,
   "metadata": {},
   "outputs": [],
   "source": [
    "email_path = os.path.join(email_folder, (random.choice(os.listdir(email_folder))))\n",
    "email = open(email_path, encoding='utf-8').read()\n",
    "\n",
    "KWARGS = {\n",
    "    'keyphrase_ngram_range': (1, 3), # Min, max word count for keywords\n",
    "    'use_mmr': True, # Increases diversity of keywords\n",
    "    'diversity': .5, # Set diversity between 0 and 1 if using MMR\n",
    "    'vectorizer': 'keyphrase', # (\"keyphrase\", True, False) How to represent document. Keyphrase vectorizer should be more coherent\n",
    "    'stop_words': 'english'\n",
    "}\n",
    "\n",
    "print(f'FILENAME: {email_path}\\n')\n",
    "print('TEXT:\\n ', \"\\n\".join(textwrap.wrap(email, 100)), '\\n')\n",
    "get_keywords(email, KWARGS)\n",
    "\n",
    "# Run on same email with different args\n",
    "# print()\n",
    "# KWARGS['vectorizer'] = True\n",
    "# get_keywords(email, KWARGS)"
   ]
  },
  {
   "cell_type": "markdown",
   "metadata": {},
   "source": [
    "## Topic Modeling"
   ]
  },
  {
   "cell_type": "markdown",
   "metadata": {},
   "source": [
    "#### Setup"
   ]
  },
  {
   "cell_type": "code",
   "execution_count": null,
   "metadata": {},
   "outputs": [],
   "source": [
    "from bertopic import BERTopic\n",
    "from bertopic.representation import KeyBERTInspired, MaximalMarginalRelevance\n",
    "from bertopic.vectorizers import ClassTfidfTransformer"
   ]
  },
  {
   "cell_type": "markdown",
   "metadata": {},
   "source": [
    "#### Get topics and view topic hierarchy (see comments)"
   ]
  },
  {
   "cell_type": "code",
   "execution_count": 88,
   "metadata": {},
   "outputs": [
    {
     "name": "stderr",
     "output_type": "stream",
     "text": [
      "100%|██████████| 1/1 [00:02<00:00,  2.33s/it]\n"
     ]
    },
    {
     "data": {
      "application/vnd.plotly.v1+json": {
       "config": {
        "plotlyServerURL": "https://plot.ly"
       },
       "data": [
        {
         "hoverinfo": "text",
         "marker": {
          "color": "rgb(61,153,112)"
         },
         "mode": "lines",
         "text": [
          "enron_energy_market_trading_power",
          "",
          "",
          "schedules2002013010txt_schedules2002011918txt_schedules2002020423txt_schedules2002013108txt_schedules2001040801txt"
         ],
         "type": "scatter",
         "x": [
          0,
          0.9299185632764352,
          0.9299185632764352,
          0
         ],
         "xaxis": "x",
         "y": [
          -5,
          -5,
          -15,
          -15
         ],
         "yaxis": "y"
        },
        {
         "hoverinfo": "text",
         "hovertext": [],
         "marker": {
          "color": "black"
         },
         "mode": "markers",
         "showlegend": false,
         "type": "scatter",
         "x": [],
         "y": []
        },
        {
         "hoverinfo": "text",
         "hovertext": [],
         "marker": {
          "color": "black"
         },
         "mode": "markers",
         "showlegend": false,
         "type": "scatter",
         "x": [],
         "y": []
        }
       ],
       "layout": {
        "autosize": false,
        "height": 230,
        "hoverlabel": {
         "bgcolor": "white",
         "font": {
          "family": "Rockwell",
          "size": 16
         }
        },
        "hovermode": "closest",
        "plot_bgcolor": "#ECEFF1",
        "showlegend": false,
        "template": {
         "data": {
          "bar": [
           {
            "error_x": {
             "color": "#2a3f5f"
            },
            "error_y": {
             "color": "#2a3f5f"
            },
            "marker": {
             "line": {
              "color": "white",
              "width": 0.5
             },
             "pattern": {
              "fillmode": "overlay",
              "size": 10,
              "solidity": 0.2
             }
            },
            "type": "bar"
           }
          ],
          "barpolar": [
           {
            "marker": {
             "line": {
              "color": "white",
              "width": 0.5
             },
             "pattern": {
              "fillmode": "overlay",
              "size": 10,
              "solidity": 0.2
             }
            },
            "type": "barpolar"
           }
          ],
          "carpet": [
           {
            "aaxis": {
             "endlinecolor": "#2a3f5f",
             "gridcolor": "#C8D4E3",
             "linecolor": "#C8D4E3",
             "minorgridcolor": "#C8D4E3",
             "startlinecolor": "#2a3f5f"
            },
            "baxis": {
             "endlinecolor": "#2a3f5f",
             "gridcolor": "#C8D4E3",
             "linecolor": "#C8D4E3",
             "minorgridcolor": "#C8D4E3",
             "startlinecolor": "#2a3f5f"
            },
            "type": "carpet"
           }
          ],
          "choropleth": [
           {
            "colorbar": {
             "outlinewidth": 0,
             "ticks": ""
            },
            "type": "choropleth"
           }
          ],
          "contour": [
           {
            "colorbar": {
             "outlinewidth": 0,
             "ticks": ""
            },
            "colorscale": [
             [
              0,
              "#0d0887"
             ],
             [
              0.1111111111111111,
              "#46039f"
             ],
             [
              0.2222222222222222,
              "#7201a8"
             ],
             [
              0.3333333333333333,
              "#9c179e"
             ],
             [
              0.4444444444444444,
              "#bd3786"
             ],
             [
              0.5555555555555556,
              "#d8576b"
             ],
             [
              0.6666666666666666,
              "#ed7953"
             ],
             [
              0.7777777777777778,
              "#fb9f3a"
             ],
             [
              0.8888888888888888,
              "#fdca26"
             ],
             [
              1,
              "#f0f921"
             ]
            ],
            "type": "contour"
           }
          ],
          "contourcarpet": [
           {
            "colorbar": {
             "outlinewidth": 0,
             "ticks": ""
            },
            "type": "contourcarpet"
           }
          ],
          "heatmap": [
           {
            "colorbar": {
             "outlinewidth": 0,
             "ticks": ""
            },
            "colorscale": [
             [
              0,
              "#0d0887"
             ],
             [
              0.1111111111111111,
              "#46039f"
             ],
             [
              0.2222222222222222,
              "#7201a8"
             ],
             [
              0.3333333333333333,
              "#9c179e"
             ],
             [
              0.4444444444444444,
              "#bd3786"
             ],
             [
              0.5555555555555556,
              "#d8576b"
             ],
             [
              0.6666666666666666,
              "#ed7953"
             ],
             [
              0.7777777777777778,
              "#fb9f3a"
             ],
             [
              0.8888888888888888,
              "#fdca26"
             ],
             [
              1,
              "#f0f921"
             ]
            ],
            "type": "heatmap"
           }
          ],
          "heatmapgl": [
           {
            "colorbar": {
             "outlinewidth": 0,
             "ticks": ""
            },
            "colorscale": [
             [
              0,
              "#0d0887"
             ],
             [
              0.1111111111111111,
              "#46039f"
             ],
             [
              0.2222222222222222,
              "#7201a8"
             ],
             [
              0.3333333333333333,
              "#9c179e"
             ],
             [
              0.4444444444444444,
              "#bd3786"
             ],
             [
              0.5555555555555556,
              "#d8576b"
             ],
             [
              0.6666666666666666,
              "#ed7953"
             ],
             [
              0.7777777777777778,
              "#fb9f3a"
             ],
             [
              0.8888888888888888,
              "#fdca26"
             ],
             [
              1,
              "#f0f921"
             ]
            ],
            "type": "heatmapgl"
           }
          ],
          "histogram": [
           {
            "marker": {
             "pattern": {
              "fillmode": "overlay",
              "size": 10,
              "solidity": 0.2
             }
            },
            "type": "histogram"
           }
          ],
          "histogram2d": [
           {
            "colorbar": {
             "outlinewidth": 0,
             "ticks": ""
            },
            "colorscale": [
             [
              0,
              "#0d0887"
             ],
             [
              0.1111111111111111,
              "#46039f"
             ],
             [
              0.2222222222222222,
              "#7201a8"
             ],
             [
              0.3333333333333333,
              "#9c179e"
             ],
             [
              0.4444444444444444,
              "#bd3786"
             ],
             [
              0.5555555555555556,
              "#d8576b"
             ],
             [
              0.6666666666666666,
              "#ed7953"
             ],
             [
              0.7777777777777778,
              "#fb9f3a"
             ],
             [
              0.8888888888888888,
              "#fdca26"
             ],
             [
              1,
              "#f0f921"
             ]
            ],
            "type": "histogram2d"
           }
          ],
          "histogram2dcontour": [
           {
            "colorbar": {
             "outlinewidth": 0,
             "ticks": ""
            },
            "colorscale": [
             [
              0,
              "#0d0887"
             ],
             [
              0.1111111111111111,
              "#46039f"
             ],
             [
              0.2222222222222222,
              "#7201a8"
             ],
             [
              0.3333333333333333,
              "#9c179e"
             ],
             [
              0.4444444444444444,
              "#bd3786"
             ],
             [
              0.5555555555555556,
              "#d8576b"
             ],
             [
              0.6666666666666666,
              "#ed7953"
             ],
             [
              0.7777777777777778,
              "#fb9f3a"
             ],
             [
              0.8888888888888888,
              "#fdca26"
             ],
             [
              1,
              "#f0f921"
             ]
            ],
            "type": "histogram2dcontour"
           }
          ],
          "mesh3d": [
           {
            "colorbar": {
             "outlinewidth": 0,
             "ticks": ""
            },
            "type": "mesh3d"
           }
          ],
          "parcoords": [
           {
            "line": {
             "colorbar": {
              "outlinewidth": 0,
              "ticks": ""
             }
            },
            "type": "parcoords"
           }
          ],
          "pie": [
           {
            "automargin": true,
            "type": "pie"
           }
          ],
          "scatter": [
           {
            "fillpattern": {
             "fillmode": "overlay",
             "size": 10,
             "solidity": 0.2
            },
            "type": "scatter"
           }
          ],
          "scatter3d": [
           {
            "line": {
             "colorbar": {
              "outlinewidth": 0,
              "ticks": ""
             }
            },
            "marker": {
             "colorbar": {
              "outlinewidth": 0,
              "ticks": ""
             }
            },
            "type": "scatter3d"
           }
          ],
          "scattercarpet": [
           {
            "marker": {
             "colorbar": {
              "outlinewidth": 0,
              "ticks": ""
             }
            },
            "type": "scattercarpet"
           }
          ],
          "scattergeo": [
           {
            "marker": {
             "colorbar": {
              "outlinewidth": 0,
              "ticks": ""
             }
            },
            "type": "scattergeo"
           }
          ],
          "scattergl": [
           {
            "marker": {
             "colorbar": {
              "outlinewidth": 0,
              "ticks": ""
             }
            },
            "type": "scattergl"
           }
          ],
          "scattermapbox": [
           {
            "marker": {
             "colorbar": {
              "outlinewidth": 0,
              "ticks": ""
             }
            },
            "type": "scattermapbox"
           }
          ],
          "scatterpolar": [
           {
            "marker": {
             "colorbar": {
              "outlinewidth": 0,
              "ticks": ""
             }
            },
            "type": "scatterpolar"
           }
          ],
          "scatterpolargl": [
           {
            "marker": {
             "colorbar": {
              "outlinewidth": 0,
              "ticks": ""
             }
            },
            "type": "scatterpolargl"
           }
          ],
          "scatterternary": [
           {
            "marker": {
             "colorbar": {
              "outlinewidth": 0,
              "ticks": ""
             }
            },
            "type": "scatterternary"
           }
          ],
          "surface": [
           {
            "colorbar": {
             "outlinewidth": 0,
             "ticks": ""
            },
            "colorscale": [
             [
              0,
              "#0d0887"
             ],
             [
              0.1111111111111111,
              "#46039f"
             ],
             [
              0.2222222222222222,
              "#7201a8"
             ],
             [
              0.3333333333333333,
              "#9c179e"
             ],
             [
              0.4444444444444444,
              "#bd3786"
             ],
             [
              0.5555555555555556,
              "#d8576b"
             ],
             [
              0.6666666666666666,
              "#ed7953"
             ],
             [
              0.7777777777777778,
              "#fb9f3a"
             ],
             [
              0.8888888888888888,
              "#fdca26"
             ],
             [
              1,
              "#f0f921"
             ]
            ],
            "type": "surface"
           }
          ],
          "table": [
           {
            "cells": {
             "fill": {
              "color": "#EBF0F8"
             },
             "line": {
              "color": "white"
             }
            },
            "header": {
             "fill": {
              "color": "#C8D4E3"
             },
             "line": {
              "color": "white"
             }
            },
            "type": "table"
           }
          ]
         },
         "layout": {
          "annotationdefaults": {
           "arrowcolor": "#2a3f5f",
           "arrowhead": 0,
           "arrowwidth": 1
          },
          "autotypenumbers": "strict",
          "coloraxis": {
           "colorbar": {
            "outlinewidth": 0,
            "ticks": ""
           }
          },
          "colorscale": {
           "diverging": [
            [
             0,
             "#8e0152"
            ],
            [
             0.1,
             "#c51b7d"
            ],
            [
             0.2,
             "#de77ae"
            ],
            [
             0.3,
             "#f1b6da"
            ],
            [
             0.4,
             "#fde0ef"
            ],
            [
             0.5,
             "#f7f7f7"
            ],
            [
             0.6,
             "#e6f5d0"
            ],
            [
             0.7,
             "#b8e186"
            ],
            [
             0.8,
             "#7fbc41"
            ],
            [
             0.9,
             "#4d9221"
            ],
            [
             1,
             "#276419"
            ]
           ],
           "sequential": [
            [
             0,
             "#0d0887"
            ],
            [
             0.1111111111111111,
             "#46039f"
            ],
            [
             0.2222222222222222,
             "#7201a8"
            ],
            [
             0.3333333333333333,
             "#9c179e"
            ],
            [
             0.4444444444444444,
             "#bd3786"
            ],
            [
             0.5555555555555556,
             "#d8576b"
            ],
            [
             0.6666666666666666,
             "#ed7953"
            ],
            [
             0.7777777777777778,
             "#fb9f3a"
            ],
            [
             0.8888888888888888,
             "#fdca26"
            ],
            [
             1,
             "#f0f921"
            ]
           ],
           "sequentialminus": [
            [
             0,
             "#0d0887"
            ],
            [
             0.1111111111111111,
             "#46039f"
            ],
            [
             0.2222222222222222,
             "#7201a8"
            ],
            [
             0.3333333333333333,
             "#9c179e"
            ],
            [
             0.4444444444444444,
             "#bd3786"
            ],
            [
             0.5555555555555556,
             "#d8576b"
            ],
            [
             0.6666666666666666,
             "#ed7953"
            ],
            [
             0.7777777777777778,
             "#fb9f3a"
            ],
            [
             0.8888888888888888,
             "#fdca26"
            ],
            [
             1,
             "#f0f921"
            ]
           ]
          },
          "colorway": [
           "#636efa",
           "#EF553B",
           "#00cc96",
           "#ab63fa",
           "#FFA15A",
           "#19d3f3",
           "#FF6692",
           "#B6E880",
           "#FF97FF",
           "#FECB52"
          ],
          "font": {
           "color": "#2a3f5f"
          },
          "geo": {
           "bgcolor": "white",
           "lakecolor": "white",
           "landcolor": "white",
           "showlakes": true,
           "showland": true,
           "subunitcolor": "#C8D4E3"
          },
          "hoverlabel": {
           "align": "left"
          },
          "hovermode": "closest",
          "mapbox": {
           "style": "light"
          },
          "paper_bgcolor": "white",
          "plot_bgcolor": "white",
          "polar": {
           "angularaxis": {
            "gridcolor": "#EBF0F8",
            "linecolor": "#EBF0F8",
            "ticks": ""
           },
           "bgcolor": "white",
           "radialaxis": {
            "gridcolor": "#EBF0F8",
            "linecolor": "#EBF0F8",
            "ticks": ""
           }
          },
          "scene": {
           "xaxis": {
            "backgroundcolor": "white",
            "gridcolor": "#DFE8F3",
            "gridwidth": 2,
            "linecolor": "#EBF0F8",
            "showbackground": true,
            "ticks": "",
            "zerolinecolor": "#EBF0F8"
           },
           "yaxis": {
            "backgroundcolor": "white",
            "gridcolor": "#DFE8F3",
            "gridwidth": 2,
            "linecolor": "#EBF0F8",
            "showbackground": true,
            "ticks": "",
            "zerolinecolor": "#EBF0F8"
           },
           "zaxis": {
            "backgroundcolor": "white",
            "gridcolor": "#DFE8F3",
            "gridwidth": 2,
            "linecolor": "#EBF0F8",
            "showbackground": true,
            "ticks": "",
            "zerolinecolor": "#EBF0F8"
           }
          },
          "shapedefaults": {
           "line": {
            "color": "#2a3f5f"
           }
          },
          "ternary": {
           "aaxis": {
            "gridcolor": "#DFE8F3",
            "linecolor": "#A2B1C6",
            "ticks": ""
           },
           "baxis": {
            "gridcolor": "#DFE8F3",
            "linecolor": "#A2B1C6",
            "ticks": ""
           },
           "bgcolor": "white",
           "caxis": {
            "gridcolor": "#DFE8F3",
            "linecolor": "#A2B1C6",
            "ticks": ""
           }
          },
          "title": {
           "x": 0.05
          },
          "xaxis": {
           "automargin": true,
           "gridcolor": "#EBF0F8",
           "linecolor": "#EBF0F8",
           "ticks": "",
           "title": {
            "standoff": 15
           },
           "zerolinecolor": "#EBF0F8",
           "zerolinewidth": 2
          },
          "yaxis": {
           "automargin": true,
           "gridcolor": "#EBF0F8",
           "linecolor": "#EBF0F8",
           "ticks": "",
           "title": {
            "standoff": 15
           },
           "zerolinecolor": "#EBF0F8",
           "zerolinewidth": 2
          }
         }
        },
        "title": {
         "font": {
          "color": "Black",
          "size": 22
         },
         "text": "<b>Hierarchical Clustering</b>",
         "x": 0.5,
         "xanchor": "center",
         "yanchor": "top"
        },
        "width": 1000,
        "xaxis": {
         "mirror": "allticks",
         "rangemode": "tozero",
         "showgrid": false,
         "showline": true,
         "showticklabels": true,
         "ticks": "outside",
         "type": "linear",
         "zeroline": false
        },
        "yaxis": {
         "mirror": "allticks",
         "range": [
          -20,
          0
         ],
         "rangemode": "tozero",
         "showgrid": false,
         "showline": true,
         "showticklabels": true,
         "tickmode": "array",
         "ticks": "outside",
         "ticktext": [
          "0_enron_energy_market",
          "1_schedules2002013010txt_sc..."
         ],
         "tickvals": [
          -5,
          -15
         ],
         "type": "linear",
         "zeroline": false
        }
       }
      }
     },
     "metadata": {},
     "output_type": "display_data"
    }
   ],
   "source": [
    "# Select subset or all emails in email folder\n",
    "slice_docs = (None, 1000)\n",
    "docs = [open(os.path.join(email_folder, filename), encoding='utf-8').read() for \n",
    "        filename in os.listdir(email_folder)[slice_docs[0]:slice_docs[1]]]\n",
    "\n",
    "# Document representations to chain and feed into topic model\n",
    "representations = [\n",
    "    KeyBERTInspired(), # Should make topics more coherent\n",
    "    MaximalMarginalRelevance(diversity=0.3), # Makes topics more diverse\n",
    "]\n",
    "\n",
    "ctfidf_model = ClassTfidfTransformer(reduce_frequent_words=True)\n",
    "\n",
    "topic_model = BERTopic(\n",
    "        representation_model=representations, # Representations (see above)\n",
    "        ctfidf_model=ctfidf_model,  # Prevents very frequent words in data from being candidate topics\n",
    "        nr_topics='auto' # Topic reduction. Set number of desired topics, 'auto' for auto-reduction, \n",
    "        # or None. Set to None if there aren't enough topic. \n",
    "        )\n",
    "topics, probabilities = topic_model.fit_transform(docs)\n",
    "hierarchical_topics = topic_model.hierarchical_topics(docs)\n",
    "topic_model.visualize_hierarchy(hierarchical_topics=hierarchical_topics)"
   ]
  },
  {
   "cell_type": "markdown",
   "metadata": {},
   "source": [
    "#### View topics as table"
   ]
  },
  {
   "cell_type": "code",
   "execution_count": 101,
   "metadata": {},
   "outputs": [
    {
     "data": {
      "text/html": [
       "<div>\n",
       "<style scoped>\n",
       "    .dataframe tbody tr th:only-of-type {\n",
       "        vertical-align: middle;\n",
       "    }\n",
       "\n",
       "    .dataframe tbody tr th {\n",
       "        vertical-align: top;\n",
       "    }\n",
       "\n",
       "    .dataframe thead th {\n",
       "        text-align: right;\n",
       "    }\n",
       "</style>\n",
       "<table border=\"1\" class=\"dataframe\">\n",
       "  <thead>\n",
       "    <tr style=\"text-align: right;\">\n",
       "      <th></th>\n",
       "      <th>Topic</th>\n",
       "      <th>Count</th>\n",
       "      <th>Name</th>\n",
       "      <th>Representation</th>\n",
       "      <th>Representative_Docs</th>\n",
       "    </tr>\n",
       "  </thead>\n",
       "  <tbody>\n",
       "    <tr>\n",
       "      <th>0</th>\n",
       "      <td>0</td>\n",
       "      <td>977</td>\n",
       "      <td>0_enron_energy_market_trading</td>\n",
       "      <td>[enron, energy, market, trading, power, report...</td>\n",
       "      <td>[WSJ Article on Enron's Mark to Market Account...</td>\n",
       "    </tr>\n",
       "    <tr>\n",
       "      <th>1</th>\n",
       "      <td>1</td>\n",
       "      <td>23</td>\n",
       "      <td>1_schedules2002013010txt_schedules2002011918tx...</td>\n",
       "      <td>[schedules2002013010txt, schedules2002011918tx...</td>\n",
       "      <td>[Start Date: 1/3/02; HourAhead hour: 5;\\nStart...</td>\n",
       "    </tr>\n",
       "  </tbody>\n",
       "</table>\n",
       "</div>"
      ],
      "text/plain": [
       "   Topic  Count                                               Name  \\\n",
       "0      0    977                      0_enron_energy_market_trading   \n",
       "1      1     23  1_schedules2002013010txt_schedules2002011918tx...   \n",
       "\n",
       "                                      Representation  \\\n",
       "0  [enron, energy, market, trading, power, report...   \n",
       "1  [schedules2002013010txt, schedules2002011918tx...   \n",
       "\n",
       "                                 Representative_Docs  \n",
       "0  [WSJ Article on Enron's Mark to Market Account...  \n",
       "1  [Start Date: 1/3/02; HourAhead hour: 5;\\nStart...  "
      ]
     },
     "execution_count": 101,
     "metadata": {},
     "output_type": "execute_result"
    }
   ],
   "source": [
    "topic_model.get_topic_info()"
   ]
  },
  {
   "cell_type": "markdown",
   "metadata": {},
   "source": [
    "#### Show docs per topic(s)"
   ]
  },
  {
   "cell_type": "code",
   "execution_count": 100,
   "metadata": {},
   "outputs": [
    {
     "name": "stdout",
     "output_type": "stream",
     "text": [
      "DOC 1\n",
      "----------\n",
      "\n",
      "RE: ECT Investments, Inc. account with Goldman Sachs International\n",
      "Daniel:  With respect to the Terms of Business Letter, please email a\n",
      "copy of the proposed side letter (to handle arbitration and limitation\n",
      "of liability).  I just want to review the \"final product\".  We have\n",
      "all other documents ready for immediate execution.  Sorry for the\n",
      "delay and I appreciate your patience.  Regards.  Sara Shackleton Enron\n",
      "Wholesale Services 1400 Smith Street, EB3801a Houston, TX  77002 Ph:\n",
      "(713) 853-5620 Fa ... \n",
      "\n",
      "DOC 2\n",
      "----------\n",
      "\n",
      "RE: Revised curtailment and banner for EOL How about this for the\n",
      "banner on EOL   All posted prices are read only. If you are interested\n",
      "in discussing a possible transaction, contact the Enron trading desk.\n",
      "Please be advised that Enron Corp. and other subsidiaries of Enron\n",
      "have made filings under Chapter 11 of  federal bankruptcy laws.\n",
      "After further consideration, I think it is important to make clear (1)\n",
      "that we will not automatically agree to the trade if a counterparty\n",
      "calls and (2)  that  ... \n",
      "\n",
      "DOC 3\n",
      "----------\n",
      "\n",
      "Confidential - May 2001 HR At A Glance Attached is the May 2001 \"At A\n",
      "Glance\" report. A couple of additions this  month, which include a\n",
      "section on Capital Expenditures with Pay Backs and  some analysis of\n",
      "the recent new hire survey that we set up. Please call if  you have\n",
      "any questions.  DCL ... \n",
      "\n",
      "DOC 4\n",
      "----------\n",
      "\n",
      "RE: ROW Document Gerald,  Looks good to me.  In the signature block,\n",
      "should it be Enron Compression Services Company as opposed to Enron\n",
      "Compression Company?  The information that I have on the ROW tracts is\n",
      "not specifically descriptive other than to describe them as tracts\n",
      "owned by 1) Herbert and Margaret Lane Property, 2) Alan and Elizabeth\n",
      "English Property and 3) Kay Arnold Fritz Property all in dispute along\n",
      "the Shaky Joe Swamp Transmission Line.  The attorney representing\n",
      "these people is Br ... \n",
      "\n",
      "DOC 5\n",
      "----------\n",
      "\n",
      "apb checkout 535144  broker says this is not there trade ... \n",
      "\n",
      "DOC 6\n",
      "----------\n",
      "\n",
      "IT revenue crediting I've gotten a bit more educated about IT revenue\n",
      "crediting since you asked  your question yesterday.  \"IT revenue\n",
      "crediting\" is an industry term used to  describe a requirement\n",
      "(brought about either by a FERC order or a rate case  settlement) that\n",
      "IT revenues in excess of a certain dollar amount will be  credited\n",
      "back to all firm shippers in the next rate proceeding or thru some\n",
      "refund mechanism.  Transwestern is currently not under any IT revenue\n",
      "crediting obligation, and ... \n",
      "\n",
      "DOC 7\n",
      "----------\n",
      "\n",
      "DJ US Energy Secretary Warns Pwr Producers In West On Prices\n",
      "---------------------- Forwarded by Mark Guzman/PDX/ECT on 12/12/2000\n",
      "02:31  PM ---------------------------   Carla Hoffman 12/12/2000 12:18\n",
      "PM To: Tim Belden/HOU/ECT@ECT, Robert Badeer/HOU/ECT@ECT, Jeff\n",
      "Richter/HOU/ECT@ECT, Phillip Platter/HOU/ECT@ECT, Mike\n",
      "Swerzbin/HOU/ECT@ECT,  Diana Scholtes/HOU/ECT@ECT, Sean\n",
      "Crandall/PDX/ECT@ECT, Matt  Motley/PDX/ECT@ECT, Mark\n",
      "Guzman/PDX/ECT@ECT, Tom Alonso/PDX/ECT@ECT, Mark  Fischer/PDX/ECT@ECT\n",
      "... \n",
      "\n",
      "DOC 8\n",
      "----------\n",
      "\n",
      "Re: Resume Thanks for the resume - I'm looking at a number of internal\n",
      "candidates from  APACHI, CALME and Southern Cone but will keep this\n",
      "one on file (and pass it  along - might be good for Richard Sanders).\n",
      "Louise Kitchen         10/23/2000 09:52 AM\n",
      "To: Mark Taylor/HOU/ECT@ECT                  cc:\n",
      "Subject: Resume  Sny interest! ---------------------- Forwarded by\n",
      "Louise Kitchen/HOU/ECT on 10/23/2000  09:50 AM\n",
      "---------------------------  10/20/2000 10:52 AM Adriane Moratto@ENRON\n",
      "Adriane Moratto@ENRO ... \n",
      "\n",
      "DOC 9\n",
      "----------\n",
      "\n",
      "W e d n e s d a y, August 22 - FREE LUNCH at Enron! Thanks for all\n",
      "your hard work!    Lunch will be provided on Wednesday, August 22, by\n",
      "Tim Belden and Chris Calger to everyone on the floor as a thanks for\n",
      "all you've done for Enron this month. ... \n",
      "\n",
      "DOC 10\n",
      "----------\n",
      "\n",
      "I buy or loan Public Stock- Restricted or Freetrading ________________\n",
      "________________________________________________________ The following\n",
      "message was sent to you as an opt-in subscriber to Option-Wizard.com.\n",
      "We will continue to bring you valuable offers on the products and\n",
      "services that interest you most. If you wish to unsubscribe copy and\n",
      "paste this link into your browser or click here:\n",
      "http://mx01.edirectnetwork.net/cgi-\n",
      "bin/optout.cgi?email=ALEWIS@ECT.ENRON.COM&e =2237858&ppid=1 __________\n",
      "... \n",
      "\n"
     ]
    }
   ],
   "source": [
    "# Select topic(s) by int\n",
    "topics_to_show = [0, 1]\n",
    "# Show first n docs\n",
    "n_docs_to_show = 10\n",
    "# Show first n characters of each doc\n",
    "n_chars_per_doc = 500\n",
    "\n",
    "df = pd.DataFrame({\"Document\": docs, \"Topic\": topics})\n",
    "df = df.loc[df['Topic'].isin(topics_to_show)].head(n_docs_to_show)\n",
    "docs_ = df['Document'].to_list()\n",
    "random.shuffle(docs_)\n",
    "for i, doc in enumerate(docs_):\n",
    "    print(f'DOC {i + 1}\\n----------\\n')\n",
    "    print('\\n'.join(textwrap.wrap(doc[:n_chars_per_doc] + ' ...' if n_chars_per_doc else '')), '\\n')"
   ]
  }
 ],
 "metadata": {
  "kernelspec": {
   "display_name": "env",
   "language": "python",
   "name": "python3"
  },
  "language_info": {
   "codemirror_mode": {
    "name": "ipython",
    "version": 3
   },
   "file_extension": ".py",
   "mimetype": "text/x-python",
   "name": "python",
   "nbconvert_exporter": "python",
   "pygments_lexer": "ipython3",
   "version": "3.11.3"
  },
  "orig_nbformat": 4
 },
 "nbformat": 4,
 "nbformat_minor": 2
}
