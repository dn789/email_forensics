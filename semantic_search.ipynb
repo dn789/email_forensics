{
 "cells": [
  {
   "cell_type": "markdown",
   "metadata": {},
   "source": [
    "# Semantic Search"
   ]
  },
  {
   "cell_type": "markdown",
   "metadata": {},
   "source": [
    "`pip install sentence-transformers`"
   ]
  },
  {
   "cell_type": "code",
   "execution_count": null,
   "metadata": {},
   "outputs": [],
   "source": [
    "import json\n",
    "import os\n",
    "import pickle\n",
    "\n",
    "from sentence_transformers import SentenceTransformer, util"
   ]
  },
  {
   "cell_type": "markdown",
   "metadata": {},
   "source": [
    "(1) Select a Model"
   ]
  },
  {
   "cell_type": "code",
   "execution_count": null,
   "metadata": {},
   "outputs": [],
   "source": [
    "# MODEL = 'msmarco-distilbert-cos-v5'\n",
    "MODEL = 'msmarco-distilbert-base-tas-b'\n",
    "#################################################\n",
    "model = SentenceTransformer(MODEL)"
   ]
  },
  {
   "cell_type": "markdown",
   "metadata": {},
   "source": [
    "(2) Select docs folder and whether to save embeddings for future use"
   ]
  },
  {
   "cell_type": "code",
   "execution_count": null,
   "metadata": {},
   "outputs": [],
   "source": [
    "FOLDER = 'emails/alliancecoal/'\n",
    "# Set name to pickle embeddings\n",
    "SAVE_AS = 'alliancecoal_emb'\n",
    "#################################################\n",
    "docs = [json.load(open(os.path.join(FOLDER, filename), encoding='utf-8'))['body'] for\n",
    "        filename in os.listdir(FOLDER)]\n",
    "docs = [doc.strip() for doc in docs if doc.strip()]\n",
    "doc_emb = model.encode(docs)\n",
    "\n",
    "if SAVE_AS:\n",
    "    with open(f'{SAVE_AS}.pkl', \"wb\") as fOut:\n",
    "        pickle.dump({'docs': docs, 'doc_emb': doc_emb}, fOut, protocol=pickle.HIGHEST_PROTOCOL)\n"
   ]
  },
  {
   "cell_type": "markdown",
   "metadata": {},
   "source": [
    "... Or load embeddings from a pickle file"
   ]
  },
  {
   "cell_type": "code",
   "execution_count": null,
   "metadata": {},
   "outputs": [],
   "source": [
    "PICKLE_FILE = 'alliancecoal_emb.pkl'\n",
    "#################################################\n",
    "with open(PICKLE_FILE, \"rb\") as fIn:\n",
    "    stored_data = pickle.load(fIn)\n",
    "    docs = stored_data['docs']\n",
    "    doc_emb = stored_data['doc_emb']"
   ]
  },
  {
   "cell_type": "markdown",
   "metadata": {},
   "source": [
    "(3) Run query"
   ]
  },
  {
   "cell_type": "code",
   "execution_count": null,
   "metadata": {},
   "outputs": [],
   "source": [
    "QUERY = 'tech support'\n",
    "# Show top N docs\n",
    "N_DOCS = 10\n",
    "#################################################\n",
    "query_emb = model.encode(QUERY)\n",
    "scores = util.dot_score(query_emb, doc_emb)[0].cpu().tolist()\n",
    "# scores = util.(query_emb, doc_emb)[0].cpu().tolist()\n",
    "doc_score_pairs = list(zip(docs, scores))\n",
    "doc_score_pairs = sorted(doc_score_pairs, key=lambda x: x[1], reverse=True)\n",
    "for doc, score in doc_score_pairs[:N_DOCS]:\n",
    "    doc = doc.replace('\\r', '\\n')\n",
    "    doc = '\\n'.join([line for line in doc.split('\\n') if line.strip()])\n",
    "    print(doc)\n",
    "    print('\\n----------------------------------------------------------------------\\n')"
   ]
  }
 ],
 "metadata": {
  "kernelspec": {
   "display_name": "env",
   "language": "python",
   "name": "python3"
  },
  "language_info": {
   "codemirror_mode": {
    "name": "ipython",
    "version": 3
   },
   "file_extension": ".py",
   "mimetype": "text/x-python",
   "name": "python",
   "nbconvert_exporter": "python",
   "pygments_lexer": "ipython3",
   "version": "3.9.18"
  },
  "orig_nbformat": 4
 },
 "nbformat": 4,
 "nbformat_minor": 2
}
