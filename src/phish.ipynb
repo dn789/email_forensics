{
 "cells": [
  {
   "cell_type": "markdown",
   "metadata": {},
   "source": [
    "### Post campaign to Gophish\n",
    "\n",
    "1. Install and run Gophish (https://getgophish.com/)\n",
    "\n",
    "2. Get Gophish api key and add to config file.\n",
    "\n",
    "3. Select user info file from a project folder (project_folder/docs/output/users). The campaign will send emails from the user to their top communicators. The sender name and email address are generated automatically but can be manually specified in the config (e.g. if there's no SMTP-type email address list for the sender in the user file).\n",
    "\n",
    "4. Run code below.\n",
    "\n",
    "The next step would be to automatically generate the template text based on the user's writing?"
   ]
  },
  {
   "cell_type": "code",
   "execution_count": null,
   "metadata": {},
   "outputs": [],
   "source": [
    "from phish import phish\n",
    "from pathlib import Path\n",
    "\n",
    "from utils.io import load_json\n",
    "\n",
    "user_file = '../sample_data/phishing/test_user_info.json'\n",
    "config_file = '../sample_data/phishing/phish_config.json'\n",
    "\n",
    "config = load_json(Path(config_file))\n",
    "phish.create_campaign(Path(user_file), config)"
   ]
  }
 ],
 "metadata": {
  "language_info": {
   "name": "python"
  }
 },
 "nbformat": 4,
 "nbformat_minor": 2
}
