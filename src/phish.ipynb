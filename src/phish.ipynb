{
 "cells": [
  {
   "cell_type": "markdown",
   "metadata": {},
   "source": [
    "### Post campaign to Gophish\n",
    "\n",
    "\n",
    "1. Start Gophish\n",
    "2. Run cell below to create a campaign with sample data or:\n",
    "3. Specify a user_file from *[project-folder]/output/contact_info/users*.\n",
    "4. Specify template, etc. as needed in config file (See *phishing/phish.py* documentation). "
   ]
  },
  {
   "cell_type": "code",
   "execution_count": null,
   "metadata": {},
   "outputs": [],
   "source": [
    "from phish import phish\n",
    "from pathlib import Path\n",
    "\n",
    "from utils.io import load_json\n",
    "\n",
    "user_file = '../sample_data/phishing/test_user_info.json'\n",
    "config_file = '../sample_data/phishing/phish_config.json'\n",
    "\n",
    "config = load_json(Path(config_file))\n",
    "phish.create_campaign(Path(user_file), config)"
   ]
  }
 ],
 "metadata": {
  "kernelspec": {
   "display_name": "env",
   "language": "python",
   "name": "python3"
  },
  "language_info": {
   "codemirror_mode": {
    "name": "ipython",
    "version": 3
   },
   "file_extension": ".py",
   "mimetype": "text/x-python",
   "name": "python",
   "nbconvert_exporter": "python",
   "pygments_lexer": "ipython3",
   "version": "3.11.8"
  }
 },
 "nbformat": 4,
 "nbformat_minor": 2
}
